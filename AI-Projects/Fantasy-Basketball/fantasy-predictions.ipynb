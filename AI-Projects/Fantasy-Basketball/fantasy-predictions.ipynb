{
 "metadata": {
  "language_info": {
   "codemirror_mode": {
    "name": "ipython",
    "version": 3
   },
   "file_extension": ".py",
   "mimetype": "text/x-python",
   "name": "python",
   "nbconvert_exporter": "python",
   "pygments_lexer": "ipython3",
   "version": "3.8.3-final"
  },
  "orig_nbformat": 2,
  "kernelspec": {
   "name": "python3",
   "display_name": "Python 3",
   "language": "python"
  }
 },
 "nbformat": 4,
 "nbformat_minor": 2,
 "cells": [
  {
   "source": [
    "## Fantasy Basketball Point Predictions\n",
    "\n",
    "In this project we will webscarape data from basketball-reference to use it to make a ML model to predict stats for basketball players.\n",
    "We will try a model that will use information on previous years as well as where each player is playing now to make more accurate predictions on what his performance for the coming year will be. We will only use information from the previous year to predict, understanding its shortcomings (like players who didn't play due to injuries), but as it will be easier to train and understand how our model behaves."
   ],
   "cell_type": "markdown",
   "metadata": {}
  },
  {
   "cell_type": "code",
   "execution_count": 6,
   "metadata": {},
   "outputs": [],
   "source": [
    "import requests\n",
    "import pandas as pd\n",
    "import numpy as np\n",
    "from bs4 import BeautifulSoup\n",
    "\n",
    "def source_per_year(years, url_tail):\n",
    "    \"\"\"\n",
    "    years list of years\n",
    "    \n",
    "    This function will access basketball-reference website and get back the info for every year in our list of years\n",
    "    \n",
    "    returns dictionary with years as keys and html as data.\n",
    "    \"\"\"\n",
    "    year_dict={}\n",
    "    for i in years:\n",
    "        url= \"https://www.basketball-reference.com/leagues/NBA_\"+str(i)+url_tail\n",
    "        year_dict[i]=requests.get(url)\n",
    "    return year_dict\n",
    "\n",
    "\"\"\"\n",
    "For Player Data\n",
    "\"\"\"\n",
    "#we use different functions for player and team data as the websites for this information are quite different.\n",
    "\n",
    "def generate_table(year_dict):\n",
    "    \"\"\"\n",
    "    year_dict dictionary with years as keys and html as data.\n",
    "\n",
    "    This function will use the data gathered by the function above to create a pandas dataframe of the information we want.\n",
    "\n",
    "    returns pandas dataframe with info of players on each season considered.\n",
    "    \"\"\"\n",
    "    column_names=[]\n",
    "    first_time_year=True\n",
    "    tables={}\n",
    "    for i in year_dict.keys():\n",
    "        soup = BeautifulSoup(year_dict[i].text, \"html.parser\")\n",
    "        rows = soup.find_all(\"tr\", class_=\"full_table\")\n",
    "        for row in rows:\n",
    "            data=row.find_all(\"td\")\n",
    "            new_row={}\n",
    "            if first_time_year:\n",
    "                first_time_year=False\n",
    "                for cell in data:\n",
    "                    column_names.append(cell[\"data-stat\"])\n",
    "                table=pd.DataFrame(columns=column_names)\n",
    "            for cell in data:\n",
    "                new_row[cell[\"data-stat\"]]=cell.text\n",
    "            table=table.append(new_row, ignore_index=True)\n",
    "        first_time_year=True\n",
    "        tables[i]=table\n",
    "    return tables\n",
    "\n",
    "def webscrap_to_csv(years, stats_url_tails):\n",
    "    \"\"\"\n",
    "    years list of years we want to search\n",
    "    stats_url_tails dictionary where keys are stats we want e.g. player per game, teams per game, etc. and items are url tails on the website\n",
    "    \n",
    "    This function combines the previous functions to webscrap the data we want given the stats and years we are interested\n",
    "\n",
    "    returns tables a nested dictionary that has as keys the stat we are interested on and then has dictionary having years and the table of data of that given year and stat.\n",
    "    \"\"\"\n",
    "    tables={}\n",
    "    for stat in stats_url_tails:\n",
    "        year_dict=source_per_year(years, stats_url_tails[stat])\n",
    "        tables[stat]=generate_table(year_dict)\n",
    "    for stat in tables:\n",
    "        for year in tables[stat]:\n",
    "            tables[stat][year].to_csv(\"NBA_\"+str(year)+\"_\"+stat+\".csv\")\n",
    "    return tables\n",
    "\n",
    "\"\"\"\n",
    "For Team Data\n",
    "\"\"\"\n",
    "\n",
    "def generate_table_teams(year_dict):\n",
    "    \"\"\"\n",
    "    year_dict dictionary with years as keys and html as data.\n",
    "\n",
    "    This function will use the data gathered by the function above to create a pandas dataframe of the information we want.\n",
    "\n",
    "    returns pandas dataframe with info of players on each season considered.\n",
    "    \"\"\"\n",
    "    column_names=[]\n",
    "    first_time_year=True\n",
    "    tables={}\n",
    "    dict_of_tables={}\n",
    "    j=0\n",
    "    for i in year_dict.keys():\n",
    "        soup = BeautifulSoup(year_dict[i].text, \"html.parser\")\n",
    "        html_tables = soup.find_all(\"div\", class_=\"table_wrapper table_controls\")\n",
    "        html_tables = soup.find_all(\"table\")\n",
    "        print(html_tables)\n",
    "        for html_table in html_tables:\n",
    "            rows=html_table.find_all(\"tr\")\n",
    "            for row in rows:\n",
    "                data=row.find_all(\"td\")\n",
    "                new_row={}\n",
    "                if first_time_year:\n",
    "                    first_time_year=False\n",
    "                    for cell in data:\n",
    "                        column_names.append(cell[\"data-stat\"])\n",
    "                    table=pd.DataFrame(columns=column_names)\n",
    "                for cell in data:\n",
    "                    new_row[cell[\"data-stat\"]]=cell.text\n",
    "                table=table.append(new_row, ignore_index=True)\n",
    "            first_time_year=True\n",
    "            if html_table.find(\"caption\") != None:\n",
    "                tables[html_table.find(\"caption\").text]=table\n",
    "            else:\n",
    "                j+=1\n",
    "                tables[j]=table\n",
    "        dict_of_tables[i]=tables\n",
    "    return dict_of_tables\n"
   ]
  },
  {
   "cell_type": "code",
   "execution_count": 4,
   "metadata": {
    "tags": []
   },
   "outputs": [
    {
     "output_type": "error",
     "ename": "NameError",
     "evalue": "name 'stats_url_tail' is not defined",
     "traceback": [
      "\u001b[1;31m---------------------------------------------------------------------------\u001b[0m",
      "\u001b[1;31mNameError\u001b[0m                                 Traceback (most recent call last)",
      "\u001b[1;32m<ipython-input-4-343a410a1762>\u001b[0m in \u001b[0;36m<module>\u001b[1;34m\u001b[0m\n\u001b[0;32m     16\u001b[0m \u001b[0mstats_url_tails\u001b[0m\u001b[1;33m=\u001b[0m\u001b[1;33m{\u001b[0m\u001b[1;34m\"team\"\u001b[0m\u001b[1;33m:\u001b[0m\u001b[1;34m\".html\"\u001b[0m\u001b[1;33m}\u001b[0m\u001b[1;33m\u001b[0m\u001b[1;33m\u001b[0m\u001b[0m\n\u001b[0;32m     17\u001b[0m \u001b[1;33m\u001b[0m\u001b[0m\n\u001b[1;32m---> 18\u001b[1;33m \u001b[0myear_dict\u001b[0m\u001b[1;33m=\u001b[0m\u001b[0msource_per_year\u001b[0m\u001b[1;33m(\u001b[0m\u001b[0myears\u001b[0m\u001b[1;33m,\u001b[0m \u001b[0mstats_url_tail\u001b[0m\u001b[1;33m)\u001b[0m\u001b[1;33m\u001b[0m\u001b[1;33m\u001b[0m\u001b[0m\n\u001b[0m\u001b[0;32m     19\u001b[0m \u001b[0mtables_teams\u001b[0m\u001b[1;33m=\u001b[0m\u001b[0mgenerate_table_teams\u001b[0m\u001b[1;33m(\u001b[0m\u001b[0myear_dict\u001b[0m\u001b[1;33m)\u001b[0m\u001b[1;33m\u001b[0m\u001b[1;33m\u001b[0m\u001b[0m\n",
      "\u001b[1;31mNameError\u001b[0m: name 'stats_url_tail' is not defined"
     ]
    }
   ],
   "source": [
    "#Here we use the functions made above to create pandas dataframes on the years selected and also save them in csv format.\n",
    "\"\"\"\n",
    "Players\n",
    "\"\"\"\n",
    "\n",
    "years=range(2000,2021)\n",
    "stats_url_tails={\"player_per_game\":\"_per_game.html\", \"player_per_36_min\":\"_per_minute.html\", \"per_100_possesions\":\"_per_poss.html\"}\n",
    "\n",
    "tables=webscrap_to_csv(years, stats_url_tails)\n",
    "\n",
    "\"\"\"\n",
    "Teams\n",
    "\"\"\"\n",
    "\n",
    "years=[2020]\n",
    "stats_url_tails={\"team\":\".html\"}\n",
    "\n",
    "year_dict=source_per_year(years, stats_url_tails)\n",
    "tables_teams=generate_table_teams(year_dict)"
   ]
  },
  {
   "cell_type": "code",
   "execution_count": 1,
   "metadata": {
    "tags": []
   },
   "outputs": [
    {
     "output_type": "error",
     "ename": "NameError",
     "evalue": "name 'source_per_year' is not defined",
     "traceback": [
      "\u001b[1;31m---------------------------------------------------------------------------\u001b[0m",
      "\u001b[1;31mNameError\u001b[0m                                 Traceback (most recent call last)",
      "\u001b[1;32m<ipython-input-1-d1fde331dcda>\u001b[0m in \u001b[0;36m<module>\u001b[1;34m\u001b[0m\n\u001b[0;32m      2\u001b[0m \u001b[0mstats_url_tail\u001b[0m\u001b[1;33m=\u001b[0m\u001b[1;34m\".html\"\u001b[0m\u001b[1;33m\u001b[0m\u001b[1;33m\u001b[0m\u001b[0m\n\u001b[0;32m      3\u001b[0m \u001b[1;33m\u001b[0m\u001b[0m\n\u001b[1;32m----> 4\u001b[1;33m \u001b[0myear_dict\u001b[0m\u001b[1;33m=\u001b[0m\u001b[0msource_per_year\u001b[0m\u001b[1;33m(\u001b[0m\u001b[0myears\u001b[0m\u001b[1;33m,\u001b[0m \u001b[0mstats_url_tail\u001b[0m\u001b[1;33m)\u001b[0m\u001b[1;33m\u001b[0m\u001b[1;33m\u001b[0m\u001b[0m\n\u001b[0m\u001b[0;32m      5\u001b[0m \u001b[0mtables_teams\u001b[0m\u001b[1;33m=\u001b[0m\u001b[0mgenerate_table_teams\u001b[0m\u001b[1;33m(\u001b[0m\u001b[0myear_dict\u001b[0m\u001b[1;33m)\u001b[0m\u001b[1;33m\u001b[0m\u001b[1;33m\u001b[0m\u001b[0m\n\u001b[0;32m      6\u001b[0m \u001b[1;33m\u001b[0m\u001b[0m\n",
      "\u001b[1;31mNameError\u001b[0m: name 'source_per_year' is not defined"
     ]
    }
   ],
   "source": [
    "years=[2020]\n",
    "stats_url_tail=\".html\"\n",
    "\n",
    "year_dict=source_per_year(years, stats_url_tail)\n",
    "tables_teams=generate_table_teams(year_dict)\n",
    "\n",
    "tables_teams"
   ]
  },
  {
   "cell_type": "code",
   "execution_count": 8,
   "metadata": {},
   "outputs": [
    {
     "output_type": "error",
     "ename": "SyntaxError",
     "evalue": "invalid syntax (<ipython-input-8-7e1c7f98215c>, line 1)",
     "traceback": [
      "\u001b[1;36m  File \u001b[1;32m\"<ipython-input-8-7e1c7f98215c>\"\u001b[1;36m, line \u001b[1;32m1\u001b[0m\n\u001b[1;33m    requests.get(https://www.google-analytics.com/collect?v=1&_v=j87&a=1672391789&t=event&_s=5&dl=https%3A%2F%2Fwww.basketball-reference.com%2Fleagues%2FNBA_2020.html&ul=es-es&de=UTF-8&dt=2019-20%20NBA%20Season%20Summary%20%7C%20Basketball-Reference.com&sd=24-bit&sr=1920x1080&vp=1903x937&je=0&ec=table-tool-csv&ea=open&el=1&_u=SCCAgEAzAAAAAE~&jid=&gjid=&cid=961597030.1607895969&tid=UA-1890630-9&_gid=1529584889.1607895969&cd1=bbr&cd2=0&cd3=0&cd4=0&cd5=desktop&cm1=1920&cd6=null&z=1163270395)\u001b[0m\n\u001b[1;37m                      ^\u001b[0m\n\u001b[1;31mSyntaxError\u001b[0m\u001b[1;31m:\u001b[0m invalid syntax\n"
     ]
    }
   ],
   "source": [
    "requests.get(https://www.google-analytics.com/collect?v=1&_v=j87&a=1672391789&t=event&_s=5&dl=https%3A%2F%2Fwww.basketball-reference.com%2Fleagues%2FNBA_2020.html&ul=es-es&de=UTF-8&dt=2019-20%20NBA%20Season%20Summary%20%7C%20Basketball-Reference.com&sd=24-bit&sr=1920x1080&vp=1903x937&je=0&ec=table-tool-csv&ea=open&el=1&_u=SCCAgEAzAAAAAE~&jid=&gjid=&cid=961597030.1607895969&tid=UA-1890630-9&_gid=1529584889.1607895969&cd1=bbr&cd2=0&cd3=0&cd4=0&cd5=desktop&cm1=1920&cd6=null&z=1163270395)"
   ]
  },
  {
   "cell_type": "code",
   "execution_count": 67,
   "metadata": {},
   "outputs": [
    {
     "output_type": "execute_result",
     "data": {
      "text/plain": [
       "                       player pos age team_id   g  gs mp_per_g fg_per_g  \\\n",
       "0                Steven Adams   C  26     OKC  63  63     26.7      4.5   \n",
       "1                 Bam Adebayo  PF  22     MIA  72  72     33.6      6.1   \n",
       "2           LaMarcus Aldridge   C  34     SAS  53  53     33.1      7.4   \n",
       "3              Kyle Alexander   C  23     MIA   2   0      6.5      0.5   \n",
       "4    Nickeil Alexander-Walker  SG  21     NOP  47   1     12.6      2.1   \n",
       "..                        ...  ..  ..     ...  ..  ..      ...      ...   \n",
       "524                Trae Young  PG  21     ATL  60  60     35.3      9.1   \n",
       "525               Cody Zeller   C  27     CHO  58  39     23.1      4.3   \n",
       "526              Tyler Zeller   C  30     SAS   2   0      2.0      0.5   \n",
       "527                Ante Žižić   C  23     CLE  22   0     10.0      1.9   \n",
       "528               Ivica Zubac   C  22     LAC  72  70     18.4      3.3   \n",
       "\n",
       "    fga_per_g fg_pct  ... ft_pct orb_per_g drb_per_g trb_per_g ast_per_g  \\\n",
       "0         7.6   .592  ...   .582       3.3       6.0       9.3       2.3   \n",
       "1        11.0   .557  ...   .691       2.4       7.8      10.2       5.1   \n",
       "2        15.0   .493  ...   .827       1.9       5.5       7.4       2.4   \n",
       "3         1.0   .500  ...              1.0       0.5       1.5       0.0   \n",
       "4         5.7   .368  ...   .676       0.2       1.6       1.8       1.9   \n",
       "..        ...    ...  ...    ...       ...       ...       ...       ...   \n",
       "524      20.8   .437  ...   .860       0.5       3.7       4.3       9.3   \n",
       "525       8.3   .524  ...   .682       2.8       4.3       7.1       1.5   \n",
       "526       2.0   .250  ...              1.5       0.5       2.0       0.0   \n",
       "527       3.3   .569  ...   .737       0.8       2.2       3.0       0.3   \n",
       "528       5.3   .613  ...   .747       2.7       4.8       7.5       1.1   \n",
       "\n",
       "    stl_per_g blk_per_g tov_per_g pf_per_g pts_per_g  \n",
       "0         0.8       1.1       1.5      1.9      10.9  \n",
       "1         1.1       1.3       2.8      2.5      15.9  \n",
       "2         0.7       1.6       1.4      2.4      18.9  \n",
       "3         0.0       0.0       0.5      0.5       1.0  \n",
       "4         0.4       0.2       1.1      1.2       5.7  \n",
       "..        ...       ...       ...      ...       ...  \n",
       "524       1.1       0.1       4.8      1.7      29.6  \n",
       "525       0.7       0.4       1.3      2.4      11.1  \n",
       "526       0.0       0.0       0.0      0.0       1.0  \n",
       "527       0.3       0.2       0.5      1.2       4.4  \n",
       "528       0.2       0.9       0.8      2.3       8.3  \n",
       "\n",
       "[529 rows x 145 columns]"
      ],
      "text/html": "<div>\n<style scoped>\n    .dataframe tbody tr th:only-of-type {\n        vertical-align: middle;\n    }\n\n    .dataframe tbody tr th {\n        vertical-align: top;\n    }\n\n    .dataframe thead th {\n        text-align: right;\n    }\n</style>\n<table border=\"1\" class=\"dataframe\">\n  <thead>\n    <tr style=\"text-align: right;\">\n      <th></th>\n      <th>player</th>\n      <th>pos</th>\n      <th>age</th>\n      <th>team_id</th>\n      <th>g</th>\n      <th>gs</th>\n      <th>mp_per_g</th>\n      <th>fg_per_g</th>\n      <th>fga_per_g</th>\n      <th>fg_pct</th>\n      <th>...</th>\n      <th>ft_pct</th>\n      <th>orb_per_g</th>\n      <th>drb_per_g</th>\n      <th>trb_per_g</th>\n      <th>ast_per_g</th>\n      <th>stl_per_g</th>\n      <th>blk_per_g</th>\n      <th>tov_per_g</th>\n      <th>pf_per_g</th>\n      <th>pts_per_g</th>\n    </tr>\n  </thead>\n  <tbody>\n    <tr>\n      <th>0</th>\n      <td>Steven Adams</td>\n      <td>C</td>\n      <td>26</td>\n      <td>OKC</td>\n      <td>63</td>\n      <td>63</td>\n      <td>26.7</td>\n      <td>4.5</td>\n      <td>7.6</td>\n      <td>.592</td>\n      <td>...</td>\n      <td>.582</td>\n      <td>3.3</td>\n      <td>6.0</td>\n      <td>9.3</td>\n      <td>2.3</td>\n      <td>0.8</td>\n      <td>1.1</td>\n      <td>1.5</td>\n      <td>1.9</td>\n      <td>10.9</td>\n    </tr>\n    <tr>\n      <th>1</th>\n      <td>Bam Adebayo</td>\n      <td>PF</td>\n      <td>22</td>\n      <td>MIA</td>\n      <td>72</td>\n      <td>72</td>\n      <td>33.6</td>\n      <td>6.1</td>\n      <td>11.0</td>\n      <td>.557</td>\n      <td>...</td>\n      <td>.691</td>\n      <td>2.4</td>\n      <td>7.8</td>\n      <td>10.2</td>\n      <td>5.1</td>\n      <td>1.1</td>\n      <td>1.3</td>\n      <td>2.8</td>\n      <td>2.5</td>\n      <td>15.9</td>\n    </tr>\n    <tr>\n      <th>2</th>\n      <td>LaMarcus Aldridge</td>\n      <td>C</td>\n      <td>34</td>\n      <td>SAS</td>\n      <td>53</td>\n      <td>53</td>\n      <td>33.1</td>\n      <td>7.4</td>\n      <td>15.0</td>\n      <td>.493</td>\n      <td>...</td>\n      <td>.827</td>\n      <td>1.9</td>\n      <td>5.5</td>\n      <td>7.4</td>\n      <td>2.4</td>\n      <td>0.7</td>\n      <td>1.6</td>\n      <td>1.4</td>\n      <td>2.4</td>\n      <td>18.9</td>\n    </tr>\n    <tr>\n      <th>3</th>\n      <td>Kyle Alexander</td>\n      <td>C</td>\n      <td>23</td>\n      <td>MIA</td>\n      <td>2</td>\n      <td>0</td>\n      <td>6.5</td>\n      <td>0.5</td>\n      <td>1.0</td>\n      <td>.500</td>\n      <td>...</td>\n      <td></td>\n      <td>1.0</td>\n      <td>0.5</td>\n      <td>1.5</td>\n      <td>0.0</td>\n      <td>0.0</td>\n      <td>0.0</td>\n      <td>0.5</td>\n      <td>0.5</td>\n      <td>1.0</td>\n    </tr>\n    <tr>\n      <th>4</th>\n      <td>Nickeil Alexander-Walker</td>\n      <td>SG</td>\n      <td>21</td>\n      <td>NOP</td>\n      <td>47</td>\n      <td>1</td>\n      <td>12.6</td>\n      <td>2.1</td>\n      <td>5.7</td>\n      <td>.368</td>\n      <td>...</td>\n      <td>.676</td>\n      <td>0.2</td>\n      <td>1.6</td>\n      <td>1.8</td>\n      <td>1.9</td>\n      <td>0.4</td>\n      <td>0.2</td>\n      <td>1.1</td>\n      <td>1.2</td>\n      <td>5.7</td>\n    </tr>\n    <tr>\n      <th>...</th>\n      <td>...</td>\n      <td>...</td>\n      <td>...</td>\n      <td>...</td>\n      <td>...</td>\n      <td>...</td>\n      <td>...</td>\n      <td>...</td>\n      <td>...</td>\n      <td>...</td>\n      <td>...</td>\n      <td>...</td>\n      <td>...</td>\n      <td>...</td>\n      <td>...</td>\n      <td>...</td>\n      <td>...</td>\n      <td>...</td>\n      <td>...</td>\n      <td>...</td>\n      <td>...</td>\n    </tr>\n    <tr>\n      <th>524</th>\n      <td>Trae Young</td>\n      <td>PG</td>\n      <td>21</td>\n      <td>ATL</td>\n      <td>60</td>\n      <td>60</td>\n      <td>35.3</td>\n      <td>9.1</td>\n      <td>20.8</td>\n      <td>.437</td>\n      <td>...</td>\n      <td>.860</td>\n      <td>0.5</td>\n      <td>3.7</td>\n      <td>4.3</td>\n      <td>9.3</td>\n      <td>1.1</td>\n      <td>0.1</td>\n      <td>4.8</td>\n      <td>1.7</td>\n      <td>29.6</td>\n    </tr>\n    <tr>\n      <th>525</th>\n      <td>Cody Zeller</td>\n      <td>C</td>\n      <td>27</td>\n      <td>CHO</td>\n      <td>58</td>\n      <td>39</td>\n      <td>23.1</td>\n      <td>4.3</td>\n      <td>8.3</td>\n      <td>.524</td>\n      <td>...</td>\n      <td>.682</td>\n      <td>2.8</td>\n      <td>4.3</td>\n      <td>7.1</td>\n      <td>1.5</td>\n      <td>0.7</td>\n      <td>0.4</td>\n      <td>1.3</td>\n      <td>2.4</td>\n      <td>11.1</td>\n    </tr>\n    <tr>\n      <th>526</th>\n      <td>Tyler Zeller</td>\n      <td>C</td>\n      <td>30</td>\n      <td>SAS</td>\n      <td>2</td>\n      <td>0</td>\n      <td>2.0</td>\n      <td>0.5</td>\n      <td>2.0</td>\n      <td>.250</td>\n      <td>...</td>\n      <td></td>\n      <td>1.5</td>\n      <td>0.5</td>\n      <td>2.0</td>\n      <td>0.0</td>\n      <td>0.0</td>\n      <td>0.0</td>\n      <td>0.0</td>\n      <td>0.0</td>\n      <td>1.0</td>\n    </tr>\n    <tr>\n      <th>527</th>\n      <td>Ante Žižić</td>\n      <td>C</td>\n      <td>23</td>\n      <td>CLE</td>\n      <td>22</td>\n      <td>0</td>\n      <td>10.0</td>\n      <td>1.9</td>\n      <td>3.3</td>\n      <td>.569</td>\n      <td>...</td>\n      <td>.737</td>\n      <td>0.8</td>\n      <td>2.2</td>\n      <td>3.0</td>\n      <td>0.3</td>\n      <td>0.3</td>\n      <td>0.2</td>\n      <td>0.5</td>\n      <td>1.2</td>\n      <td>4.4</td>\n    </tr>\n    <tr>\n      <th>528</th>\n      <td>Ivica Zubac</td>\n      <td>C</td>\n      <td>22</td>\n      <td>LAC</td>\n      <td>72</td>\n      <td>70</td>\n      <td>18.4</td>\n      <td>3.3</td>\n      <td>5.3</td>\n      <td>.613</td>\n      <td>...</td>\n      <td>.747</td>\n      <td>2.7</td>\n      <td>4.8</td>\n      <td>7.5</td>\n      <td>1.1</td>\n      <td>0.2</td>\n      <td>0.9</td>\n      <td>0.8</td>\n      <td>2.3</td>\n      <td>8.3</td>\n    </tr>\n  </tbody>\n</table>\n<p>529 rows × 145 columns</p>\n</div>"
     },
     "metadata": {},
     "execution_count": 67
    }
   ],
   "source": [
    "tables[\"player_per_game\"][2020]"
   ]
  },
  {
   "source": [
    "## Machine Learning Tests\n",
    "\n",
    "We will now run some tests and models on the data we obtained. One hypothesis I think would be useful to test is if it is easier or more accurate to predict team averages than players. Another is to see if it is easier to predict based on average per game, per minutes or per possesion. \n",
    "\n",
    "The idea would then be to use models to predict these stats and then use these together with other models to predict any \"missing\" information for our task that would be fantasy point predictions."
   ],
   "cell_type": "markdown",
   "metadata": {}
  },
  {
   "source": [
    "## Test with RNN\n",
    "\n",
    "We will begin testing by using a simple RNN to test our hypotheses. We use an infrastructure that is simple yet specific for our task of predicting a time series so that we can get evidence for what is the best direction to take when building a more complex structure."
   ],
   "cell_type": "markdown",
   "metadata": {}
  },
  {
   "cell_type": "code",
   "execution_count": null,
   "metadata": {},
   "outputs": [],
   "source": []
  }
 ]
}